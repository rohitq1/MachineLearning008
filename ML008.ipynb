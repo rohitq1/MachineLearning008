{
 "cells": [
  {
   "cell_type": "code",
   "execution_count": 4,
   "metadata": {},
   "outputs": [
    {
     "name": "stdout",
     "output_type": "stream",
     "text": [
      "Root Feature Index: 0\n"
     ]
    }
   ],
   "source": [
    "import numpy as np\n",
    "from collections import Counter\n",
    "\n",
    "def entropy(labels):\n",
    "    \"\"\"Calculate entropy given a list of labels.\"\"\"\n",
    "    label_counts = Counter(labels)\n",
    "    n_labels = len(labels)\n",
    "    entropy = 0.0\n",
    "    for count in label_counts.values():\n",
    "        prob = count / n_labels\n",
    "        entropy -= prob * np.log2(prob)\n",
    "    return entropy\n",
    "\n",
    "def information_gain(data, labels, feature_index):\n",
    "    \"\"\"Calculate information gain given data, labels, and feature index.\"\"\"\n",
    "    # Calculate total entropy before splitting\n",
    "    total_entropy = entropy(labels)\n",
    "\n",
    "    # Calculate weighted entropy after splitting\n",
    "    unique_values = set(data[:, feature_index])\n",
    "    weighted_entropy = 0.0\n",
    "    for value in unique_values:\n",
    "        subset_indices = np.where(data[:, feature_index] == value)[0]\n",
    "        subset_labels = labels[subset_indices]\n",
    "        weighted_entropy += len(subset_labels) / len(labels) * entropy(subset_labels)\n",
    "\n",
    "    # Calculate information gain\n",
    "    info_gain = total_entropy - weighted_entropy\n",
    "    return info_gain\n",
    "\n",
    "def find_root_feature(data, labels):\n",
    "    \"\"\"Find the root feature/attribute using Information Gain.\"\"\"\n",
    "    num_features = data.shape[1]\n",
    "    max_info_gain = 0\n",
    "    root_feature_index = None\n",
    "\n",
    "    for i in range(num_features):\n",
    "        info_gain = information_gain(data, labels, i)\n",
    "        if info_gain > max_info_gain:\n",
    "            max_info_gain = info_gain\n",
    "            root_feature_index = i\n",
    "\n",
    "    return root_feature_index\n",
    "data = np.array([\n",
    "    [1, 'A', 'Yes'],\n",
    "    [2, 'B', 'No'],\n",
    "    [3, 'A', 'Yes'],\n",
    "    [4, 'C', 'No'],\n",
    "    [5, 'B', 'No']\n",
    "])\n",
    "\n",
    "labels = np.array(['Class1', 'Class2', 'Class1', 'Class2', 'Class2'])\n",
    "\n",
    "# Finding the root feature\n",
    "root_feature_index = find_root_feature(data, labels)\n",
    "print(\"Root Feature Index:\", root_feature_index)\n",
    "\n"
   ]
  }
 ],
 "metadata": {
  "kernelspec": {
   "display_name": "base",
   "language": "python",
   "name": "python3"
  },
  "language_info": {
   "codemirror_mode": {
    "name": "ipython",
    "version": 3
   },
   "file_extension": ".py",
   "mimetype": "text/x-python",
   "name": "python",
   "nbconvert_exporter": "python",
   "pygments_lexer": "ipython3",
   "version": "3.11.4"
  }
 },
 "nbformat": 4,
 "nbformat_minor": 2
}
